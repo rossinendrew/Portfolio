{
 "cells": [
  {
   "cell_type": "markdown",
   "metadata": {},
   "source": [
    "# Kaggle Competition: ASHRAE - Great Energy Predictor III"
   ]
  },
  {
   "cell_type": "markdown",
   "metadata": {},
   "source": [
    "São feitos investimentos significativos para melhorar a eficiência de construções e reduzir seus custos e suas emissões. A questão é: as melhorias estão funcionando? Com o pagamento por desempenho, o proprietário do edifício paga com base na diferença entre o consumo real de energia e o que eles teriam usado sem nenhuma reforma. Os últimos valores têm que vir de um modelo. Os métodos atuais de estimativa são fragmentados e não escalam bem. Alguns assumem um tipo específico de medidor ou não trabalham com diferentes tipos de construção.\n",
    "\n",
    "Nesta competição, terão de ser desenvolvidos modelos precisos do uso de energia de edifícios medidos nas seguintes áreas: medidores de água resfriada, elétrica, água quente e vapor. Os dados são provenientes de mais de 1.000 edifícios, medidos por hora, em um período de três anos (62 milhões de linhas). Com melhores estimativas desses investimentos em economia de energia, os investidores em larga escala e as instituições financeiras estarão mais inclinadas a investir nessa área, permitindo assim o progresso de edificações eficientes."
   ]
  },
  {
   "cell_type": "code",
   "execution_count": 1,
   "metadata": {},
   "outputs": [],
   "source": [
    "import numpy as np \n",
    "import pandas as pd\n",
    "import seaborn as sns\n",
    "import matplotlib.pyplot as plt\n",
    "\n",
    "import lightgbm as lgb\n",
    "from sklearn.metrics import r2_score, mean_squared_log_error\n",
    "from math import sqrt\n",
    "from sklearn.preprocessing import LabelEncoder\n",
    "from sklearn.model_selection import KFold\n",
    "\n",
    "import random, datetime, math, gc\n",
    "from pandas.tseries.holiday import USFederalHolidayCalendar as calendar\n",
    "\n",
    "SEED = 99\n",
    "random.seed(SEED)\n",
    "np.random.seed(SEED)\n",
    "\n",
    "pd.set_option('display.max_columns', None)"
   ]
  },
  {
   "cell_type": "markdown",
   "metadata": {},
   "source": [
    "# Load"
   ]
  },
  {
   "cell_type": "markdown",
   "metadata": {},
   "source": [
    "Foram fornecidos 5 arquivos pela competição, os arquivos de treino e teste com Id’s das construções, quando as medições foram feitas e informações sobre o tipo de energia que é consumida. Os arquivos de dados climáticos para os períodos das medições de treino e teste e as informações sobre as construções. Fiz o tratamento dos dados em um notebook anterior para economizar memória, onde realizei a minificação dos dados utilizando técnicas difundidas no Kaggle e a junção de todos os dataframes em dados de treino (aproximadamente 20 milhões de linhas) e teste (aproximadamente 42 milhões de linhas), como saída foram gerados os dois arquivos .pkl que usarei neste notebook."
   ]
  },
  {
   "cell_type": "code",
   "execution_count": 2,
   "metadata": {},
   "outputs": [
    {
     "name": "stdout",
     "output_type": "stream",
     "text": [
      "Train: (20216100, 16) , Test (41697600, 16)\n"
     ]
    }
   ],
   "source": [
    "dftrain = pd.read_pickle('train.pkl')\n",
    "dftest = pd.read_pickle('test.pkl')\n",
    "print ('Train: %s , Test %s' % (dftrain.shape, dftest.shape) )"
   ]
  },
  {
   "cell_type": "code",
   "execution_count": 3,
   "metadata": {},
   "outputs": [
    {
     "data": {
      "text/html": [
       "<div>\n",
       "<style scoped>\n",
       "    .dataframe tbody tr th:only-of-type {\n",
       "        vertical-align: middle;\n",
       "    }\n",
       "\n",
       "    .dataframe tbody tr th {\n",
       "        vertical-align: top;\n",
       "    }\n",
       "\n",
       "    .dataframe thead th {\n",
       "        text-align: right;\n",
       "    }\n",
       "</style>\n",
       "<table border=\"1\" class=\"dataframe\">\n",
       "  <thead>\n",
       "    <tr style=\"text-align: right;\">\n",
       "      <th></th>\n",
       "      <th>building_id</th>\n",
       "      <th>meter</th>\n",
       "      <th>timestamp</th>\n",
       "      <th>meter_reading</th>\n",
       "      <th>site_id</th>\n",
       "      <th>primary_use</th>\n",
       "      <th>square_feet</th>\n",
       "      <th>year_built</th>\n",
       "      <th>floor_count</th>\n",
       "      <th>air_temperature</th>\n",
       "      <th>cloud_coverage</th>\n",
       "      <th>dew_temperature</th>\n",
       "      <th>precip_depth_1_hr</th>\n",
       "      <th>sea_level_pressure</th>\n",
       "      <th>wind_direction</th>\n",
       "      <th>wind_speed</th>\n",
       "    </tr>\n",
       "  </thead>\n",
       "  <tbody>\n",
       "    <tr>\n",
       "      <th>0</th>\n",
       "      <td>0</td>\n",
       "      <td>0</td>\n",
       "      <td>2016-01-01 00:00:00</td>\n",
       "      <td>0.0</td>\n",
       "      <td>0</td>\n",
       "      <td>Education</td>\n",
       "      <td>7432</td>\n",
       "      <td>2008.0</td>\n",
       "      <td>NaN</td>\n",
       "      <td>25.0</td>\n",
       "      <td>6.0</td>\n",
       "      <td>20.0</td>\n",
       "      <td>NaN</td>\n",
       "      <td>1019.7</td>\n",
       "      <td>0.0</td>\n",
       "      <td>0.0</td>\n",
       "    </tr>\n",
       "    <tr>\n",
       "      <th>1</th>\n",
       "      <td>1</td>\n",
       "      <td>0</td>\n",
       "      <td>2016-01-01 00:00:00</td>\n",
       "      <td>0.0</td>\n",
       "      <td>0</td>\n",
       "      <td>Education</td>\n",
       "      <td>2720</td>\n",
       "      <td>2004.0</td>\n",
       "      <td>NaN</td>\n",
       "      <td>25.0</td>\n",
       "      <td>6.0</td>\n",
       "      <td>20.0</td>\n",
       "      <td>NaN</td>\n",
       "      <td>1019.7</td>\n",
       "      <td>0.0</td>\n",
       "      <td>0.0</td>\n",
       "    </tr>\n",
       "    <tr>\n",
       "      <th>2</th>\n",
       "      <td>2</td>\n",
       "      <td>0</td>\n",
       "      <td>2016-01-01 00:00:00</td>\n",
       "      <td>0.0</td>\n",
       "      <td>0</td>\n",
       "      <td>Education</td>\n",
       "      <td>5376</td>\n",
       "      <td>1991.0</td>\n",
       "      <td>NaN</td>\n",
       "      <td>25.0</td>\n",
       "      <td>6.0</td>\n",
       "      <td>20.0</td>\n",
       "      <td>NaN</td>\n",
       "      <td>1019.7</td>\n",
       "      <td>0.0</td>\n",
       "      <td>0.0</td>\n",
       "    </tr>\n",
       "    <tr>\n",
       "      <th>3</th>\n",
       "      <td>3</td>\n",
       "      <td>0</td>\n",
       "      <td>2016-01-01 00:00:00</td>\n",
       "      <td>0.0</td>\n",
       "      <td>0</td>\n",
       "      <td>Education</td>\n",
       "      <td>23685</td>\n",
       "      <td>2002.0</td>\n",
       "      <td>NaN</td>\n",
       "      <td>25.0</td>\n",
       "      <td>6.0</td>\n",
       "      <td>20.0</td>\n",
       "      <td>NaN</td>\n",
       "      <td>1019.7</td>\n",
       "      <td>0.0</td>\n",
       "      <td>0.0</td>\n",
       "    </tr>\n",
       "    <tr>\n",
       "      <th>4</th>\n",
       "      <td>4</td>\n",
       "      <td>0</td>\n",
       "      <td>2016-01-01 00:00:00</td>\n",
       "      <td>0.0</td>\n",
       "      <td>0</td>\n",
       "      <td>Education</td>\n",
       "      <td>116607</td>\n",
       "      <td>1975.0</td>\n",
       "      <td>NaN</td>\n",
       "      <td>25.0</td>\n",
       "      <td>6.0</td>\n",
       "      <td>20.0</td>\n",
       "      <td>NaN</td>\n",
       "      <td>1019.7</td>\n",
       "      <td>0.0</td>\n",
       "      <td>0.0</td>\n",
       "    </tr>\n",
       "  </tbody>\n",
       "</table>\n",
       "</div>"
      ],
      "text/plain": [
       "   building_id  meter            timestamp  meter_reading  site_id  \\\n",
       "0            0      0  2016-01-01 00:00:00            0.0        0   \n",
       "1            1      0  2016-01-01 00:00:00            0.0        0   \n",
       "2            2      0  2016-01-01 00:00:00            0.0        0   \n",
       "3            3      0  2016-01-01 00:00:00            0.0        0   \n",
       "4            4      0  2016-01-01 00:00:00            0.0        0   \n",
       "\n",
       "  primary_use  square_feet  year_built  floor_count  air_temperature  \\\n",
       "0   Education         7432      2008.0          NaN             25.0   \n",
       "1   Education         2720      2004.0          NaN             25.0   \n",
       "2   Education         5376      1991.0          NaN             25.0   \n",
       "3   Education        23685      2002.0          NaN             25.0   \n",
       "4   Education       116607      1975.0          NaN             25.0   \n",
       "\n",
       "   cloud_coverage  dew_temperature  precip_depth_1_hr  sea_level_pressure  \\\n",
       "0             6.0             20.0                NaN              1019.7   \n",
       "1             6.0             20.0                NaN              1019.7   \n",
       "2             6.0             20.0                NaN              1019.7   \n",
       "3             6.0             20.0                NaN              1019.7   \n",
       "4             6.0             20.0                NaN              1019.7   \n",
       "\n",
       "   wind_direction  wind_speed  \n",
       "0             0.0         0.0  \n",
       "1             0.0         0.0  \n",
       "2             0.0         0.0  \n",
       "3             0.0         0.0  \n",
       "4             0.0         0.0  "
      ]
     },
     "execution_count": 3,
     "metadata": {},
     "output_type": "execute_result"
    }
   ],
   "source": [
    "dftrain.head()"
   ]
  },
  {
   "cell_type": "markdown",
   "metadata": {},
   "source": [
    "# Preprocessing"
   ]
  },
  {
   "cell_type": "markdown",
   "metadata": {},
   "source": [
    "Realizo a junção dos dados de treino e teste para ser realizada a feature engineering em todos os dados juntos. Apesar deste método não ser viável em produção em muitos dos casos, no âmbito da competição é eficiente pois gera uma melhora da métrica de avaliação final."
   ]
  },
  {
   "cell_type": "code",
   "execution_count": 4,
   "metadata": {},
   "outputs": [
    {
     "name": "stdout",
     "output_type": "stream",
     "text": [
      "Shape : (61913700, 17)\n"
     ]
    }
   ],
   "source": [
    "dffe = pd.concat([dftrain,dftest], axis =0, ignore_index=True, sort=False)\n",
    "print('Shape :',dffe.shape)"
   ]
  },
  {
   "cell_type": "markdown",
   "metadata": {},
   "source": [
    "Preencho os valores nulos com 0 e -999"
   ]
  },
  {
   "cell_type": "code",
   "execution_count": 5,
   "metadata": {},
   "outputs": [],
   "source": [
    "dffe['floor_count'] = dffe['floor_count'].fillna(0).astype(np.int8)\n",
    "dffe['year_built'] = dffe['year_built'].fillna(-999).astype(np.int16)"
   ]
  },
  {
   "cell_type": "markdown",
   "metadata": {},
   "source": [
    "# Feature engineering"
   ]
  },
  {
   "cell_type": "markdown",
   "metadata": {},
   "source": [
    "Nesta fase desenvolvi features referentes ao tempo para contribuir com a detecção de sazonalidade pelo modelo. Também foi adicionado um dataset intrínseco do Pandas referente a feriados americanos que podem contribuir com o consumo de energia das edificações."
   ]
  },
  {
   "cell_type": "code",
   "execution_count": 6,
   "metadata": {},
   "outputs": [],
   "source": [
    "dffe['timestamp'] = pd.to_datetime(dffe['timestamp'])"
   ]
  },
  {
   "cell_type": "code",
   "execution_count": 7,
   "metadata": {},
   "outputs": [],
   "source": [
    "dates_range = pd.date_range(start='2015-12-31', end='2019-01-01')\n",
    "us_holidays = calendar().holidays(start=dates_range.min(), end=dates_range.max())"
   ]
  },
  {
   "cell_type": "code",
   "execution_count": 8,
   "metadata": {},
   "outputs": [],
   "source": [
    "dffe['DT_MO'] = dffe['timestamp'].dt.month.astype(np.int8)\n",
    "dffe['DT_WY'] = dffe['timestamp'].dt.weekofyear.astype(np.int8)\n",
    "dffe['DT_DY'] = dffe['timestamp'].dt.dayofyear.astype(np.int16)\n",
    "dffe['is_holiday'] = (dffe['timestamp'].dt.date.astype('datetime64').isin(us_holidays)).astype(np.int8)\n",
    "dffe['DT_H'] = dffe['timestamp'].dt.hour.astype(np.int8)\n",
    "dffe['DT_day_week'] = dffe['timestamp'].dt.dayofweek.astype(np.int8)\n",
    "dffe['DT_day_month'] = dffe['timestamp'].dt.day.astype(np.int8)\n",
    "dffe['DT_week_month'] = dffe['timestamp'].dt.day/7\n",
    "dffe['DT_week_month'] = dffe['DT_week_month'].apply(lambda x: math.ceil(x)).astype(np.int8)"
   ]
  },
  {
   "cell_type": "markdown",
   "metadata": {},
   "source": [
    "transformei a variável target tirando o seu logaritmo, para ter uma distribuição mais próxima da normal."
   ]
  },
  {
   "cell_type": "code",
   "execution_count": 9,
   "metadata": {},
   "outputs": [],
   "source": [
    "dffe['meter_reading'] = np.log1p(dffe['meter_reading'])"
   ]
  },
  {
   "cell_type": "markdown",
   "metadata": {},
   "source": [
    "Deletei as colunas que não serão utilizadas pelo modelo."
   ]
  },
  {
   "cell_type": "code",
   "execution_count": 10,
   "metadata": {},
   "outputs": [],
   "source": [
    "dffe.drop(['timestamp','row_id'],axis=1,inplace=True)"
   ]
  },
  {
   "cell_type": "markdown",
   "metadata": {},
   "source": [
    "#### Encoding"
   ]
  },
  {
   "cell_type": "markdown",
   "metadata": {},
   "source": [
    "Transformei as colunas que são categóricas no tipo “category” para o Lgbm lidar melhor com estas colunas."
   ]
  },
  {
   "cell_type": "code",
   "execution_count": 11,
   "metadata": {},
   "outputs": [],
   "source": [
    "category = ['DT_MO','DT_WY','DT_DY','DT_H','DT_day_week','DT_day_month','DT_week_month','meter','primary_use','site_id','building_id']\n",
    "for col in category :\n",
    "    dffe[col] = dffe[col].astype('category')"
   ]
  },
  {
   "cell_type": "markdown",
   "metadata": {},
   "source": [
    "# Validation"
   ]
  },
  {
   "cell_type": "markdown",
   "metadata": {},
   "source": [
    "A validação foi feita replicando da melhor maneira possível a situação encontrada na competição. Na competição há 1 ano de dados de treino e 2 anos de dados de teste. Então eu utilizei uma técnica de holdout que funciona melhor para time series, dividi os dados que estão ordenados pelo tempo nos primeiros 1/3 para treino e os 2/3 finais para validação. As previsões foram realizadas nestes dados de treino através do metodo de validação cruzada KFold e os resultados comparados com os dados de validação do holdout. Neste setup foram feitos todos os testes de feature engineering adicionando uma feature por vez e observando se a métrica de avaliação do modelo RMSLE melhora."
   ]
  },
  {
   "cell_type": "code",
   "execution_count": 12,
   "metadata": {},
   "outputs": [
    {
     "name": "stdout",
     "output_type": "stream",
     "text": [
      "Shape treino: (6671313, 23) | Shape teste: (13544787, 23)\n"
     ]
    }
   ],
   "source": [
    "df_val_train = dffe[:int(dftrain.shape[0]*0.33)]\n",
    "df_val_test  = dffe[int(dftrain.shape[0]*0.33):dftrain.shape[0]]\n",
    "print('Shape treino: {:} | Shape teste: {:}'.format(df_val_train.shape, df_val_test.shape))\n",
    "X_val_train = df_val_train.drop(['meter_reading'], axis = 1)\n",
    "y_val_train  = df_val_train.meter_reading"
   ]
  },
  {
   "cell_type": "code",
   "execution_count": 13,
   "metadata": {},
   "outputs": [],
   "source": [
    "lgb_params = {\n",
    "                    'objective':'regression',\n",
    "                    'metric':'rmse',\n",
    "                    'n_jobs':-1,\n",
    "                    'learning_rate':0.25,\n",
    "                    'num_leaves': 40,\n",
    "                    'max_depth':-1,\n",
    "                    'subsample':0.85,\n",
    "                    'n_estimators':100,\n",
    "                    'seed': SEED,\n",
    "                    'early_stopping_rounds':100, \n",
    "                } "
   ]
  },
  {
   "cell_type": "markdown",
   "metadata": {},
   "source": [
    "Utilizo 2 folds, para replicar o método da predição que demonstrou melhor desempenho até o momento com k=2."
   ]
  },
  {
   "cell_type": "code",
   "execution_count": 14,
   "metadata": {},
   "outputs": [
    {
     "name": "stdout",
     "output_type": "stream",
     "text": [
      "Fold: 1\n",
      "Training until validation scores don't improve for 100 rounds.\n",
      "[25]\ttraining's rmse: 0.778595\tvalid_1's rmse: 0.782009\n",
      "[50]\ttraining's rmse: 0.705067\tvalid_1's rmse: 0.711816\n",
      "[75]\ttraining's rmse: 0.678079\tvalid_1's rmse: 0.687014\n",
      "[100]\ttraining's rmse: 0.651242\tvalid_1's rmse: 0.66223\n",
      "Did not meet early stopping. Best iteration is:\n",
      "[100]\ttraining's rmse: 0.651242\tvalid_1's rmse: 0.66223\n",
      "Wall time: 28.5 s\n",
      "Wall time: 46 s\n",
      "\n",
      "Fold: 2\n",
      "Training until validation scores don't improve for 100 rounds.\n",
      "[25]\ttraining's rmse: 0.778864\tvalid_1's rmse: 0.781096\n",
      "[50]\ttraining's rmse: 0.707569\tvalid_1's rmse: 0.711604\n",
      "[75]\ttraining's rmse: 0.678319\tvalid_1's rmse: 0.684357\n",
      "[100]\ttraining's rmse: 0.653727\tvalid_1's rmse: 0.66171\n",
      "Did not meet early stopping. Best iteration is:\n",
      "[100]\ttraining's rmse: 0.653727\tvalid_1's rmse: 0.66171\n",
      "Wall time: 33.7 s\n",
      "Wall time: 48.4 s\n",
      "\n"
     ]
    }
   ],
   "source": [
    "K = 2\n",
    "folds = KFold(K, shuffle=True, random_state = SEED)\n",
    "finalpred_validation = np.zeros(df_val_test.shape[0])\n",
    "for fold , (train_index,test_index) in enumerate(folds.split(X_val_train, y_val_train)):\n",
    "    print('Fold:',fold+1)\n",
    "          \n",
    "    X_traincv, X_testcv = X_val_train.iloc[train_index], X_val_train.iloc[test_index]\n",
    "    y_traincv, y_testcv = y_val_train.iloc[train_index], y_val_train.iloc[test_index]\n",
    "    \n",
    "    train_data = lgb.Dataset(X_traincv, y_traincv)\n",
    "    val_data   = lgb.Dataset(X_testcv, y_testcv)\n",
    "    \n",
    "    %time LGBM = lgb.train(lgb_params, train_data, valid_sets=[train_data,val_data], verbose_eval=25)\n",
    "    %time finalpred_validation += np.expm1(LGBM.predict(df_val_test.drop(['meter_reading'], axis = 1)))\n",
    "    print()\n",
    "    \n",
    "finalpred_validation /= K"
   ]
  },
  {
   "cell_type": "markdown",
   "metadata": {},
   "source": [
    "Transformo os dados negativos em 0 pois nao há como existir uma medição de consumo de energia negativa, e meço o RMSLE."
   ]
  },
  {
   "cell_type": "code",
   "execution_count": 15,
   "metadata": {},
   "outputs": [
    {
     "name": "stdout",
     "output_type": "stream",
     "text": [
      "Root mean squared logarithm error: 1.76\n"
     ]
    }
   ],
   "source": [
    "finalpred_validation = np.where((finalpred_validation < 0), 0, finalpred_validation)\n",
    "print(\"Root mean squared logarithm error: %.2f\"\n",
    "      % np.sqrt(mean_squared_log_error(np.expm1(df_val_test.meter_reading), finalpred_validation)))"
   ]
  },
  {
   "cell_type": "markdown",
   "metadata": {},
   "source": [
    "###### Feature importance"
   ]
  },
  {
   "cell_type": "markdown",
   "metadata": {},
   "source": [
    "Nesta parte gero um gráfico de barras a partir do retorno que o Lgbm dá das features mais importantes para gerar os resultados. Este gráfico traz insights sobre features novas que podem ser criadas e também sobre as menos importantes que estão sendo um ruído para o modelo e consumindo maior capacidade de processamento."
   ]
  },
  {
   "cell_type": "code",
   "execution_count": 16,
   "metadata": {},
   "outputs": [
    {
     "data": {
      "text/plain": [
       "<matplotlib.axes._subplots.AxesSubplot at 0x242f3b80358>"
      ]
     },
     "execution_count": 16,
     "metadata": {},
     "output_type": "execute_result"
    },
    {
     "data": {
      "image/png": "[encoded data removed]",
      "text/plain": [
       "<Figure size 720x360 with 1 Axes>"
      ]
     },
     "metadata": {
      "needs_background": "light"
     },
     "output_type": "display_data"
    }
   ],
   "source": [
    "feature_imp = pd.DataFrame(sorted(zip(LGBM.feature_importance(),X_val_train.columns)), \n",
    "                               columns=['Value','Feature'])\n",
    "plt.figure(figsize=(10, 5))\n",
    "plt.xticks(rotation=90)\n",
    "sns.barplot(y=feature_imp.Value, x=feature_imp.Feature)"
   ]
  },
  {
   "cell_type": "markdown",
   "metadata": {},
   "source": [
    "Como podemos perceber no gráfico a feature building_id foi a mais importante para o modelo, pois ao longo do tempo as construções tendem a ter uma média de consumo de energia parecida, e com essa informação o modelo consegue definir mais facilmente o valor da previsão."
   ]
  },
  {
   "cell_type": "code",
   "execution_count": 17,
   "metadata": {},
   "outputs": [
    {
     "data": {
      "text/plain": [
       "56"
      ]
     },
     "execution_count": 17,
     "metadata": {},
     "output_type": "execute_result"
    }
   ],
   "source": [
    "del df_val_train, df_val_test, X_val_train, y_val_train\n",
    "gc.collect()"
   ]
  },
  {
   "cell_type": "markdown",
   "metadata": {},
   "source": [
    "# Modeling"
   ]
  },
  {
   "cell_type": "markdown",
   "metadata": {},
   "source": [
    "A modelagem foi realizada em um setup de validação cruzada KFold com 2 folds, pois neste momento se mostrou melhor do que com outros testes com 5 ou mais folds. O modelo faz a validação com a fold que ficou de fora em cada iteração, usando esta mesma fold para parar o treino em caso de não haver mais melhora da métrica de avaliação. Inicialmente separo de volta os dados em treino e teste a partir do dataframe que foi realizado a feature engineering. Depois divido nas features preditoras(X_train) e o target(Y_train) e faço as previsões."
   ]
  },
  {
   "cell_type": "markdown",
   "metadata": {},
   "source": [
    "#### Split"
   ]
  },
  {
   "cell_type": "code",
   "execution_count": 18,
   "metadata": {},
   "outputs": [
    {
     "name": "stdout",
     "output_type": "stream",
     "text": [
      "Shape treino: (20216100, 23) | Shape teste: (41697600, 22)\n"
     ]
    }
   ],
   "source": [
    "dftrain = dffe[:dftrain.shape[0]]\n",
    "dftest  = dffe[dftrain.shape[0]:].drop(['meter_reading'], axis=1)\n",
    "print('Shape treino: {:} | Shape teste: {:}'.format(dftrain.shape, dftest.shape))"
   ]
  },
  {
   "cell_type": "code",
   "execution_count": 19,
   "metadata": {},
   "outputs": [],
   "source": [
    "X_train = dftrain.drop(['meter_reading'], axis = 1)\n",
    "y_train  = dftrain.meter_reading"
   ]
  },
  {
   "cell_type": "code",
   "execution_count": 20,
   "metadata": {},
   "outputs": [
    {
     "data": {
      "text/plain": [
       "67"
      ]
     },
     "execution_count": 20,
     "metadata": {},
     "output_type": "execute_result"
    }
   ],
   "source": [
    "del dffe\n",
    "gc.collect()"
   ]
  },
  {
   "cell_type": "markdown",
   "metadata": {},
   "source": [
    "###### Model"
   ]
  },
  {
   "cell_type": "code",
   "execution_count": 21,
   "metadata": {},
   "outputs": [],
   "source": [
    "lgb_params = {\n",
    "                    'objective':'regression',\n",
    "                    'metric':'rmse',\n",
    "                    'n_jobs':-1,\n",
    "                    'learning_rate':0.25,\n",
    "                    'num_leaves': 40,\n",
    "                    'max_depth':-1,\n",
    "                    'subsample':0.85,\n",
    "                    'n_estimators':1000,\n",
    "                    'seed': SEED,\n",
    "                    'early_stopping_rounds':100,\n",
    "                } "
   ]
  },
  {
   "cell_type": "code",
   "execution_count": 22,
   "metadata": {},
   "outputs": [
    {
     "name": "stdout",
     "output_type": "stream",
     "text": [
      "Fold: 1\n",
      "Training until validation scores don't improve for 100 rounds.\n",
      "[250]\ttraining's rmse: 0.708941\tvalid_1's rmse: 0.718355\n",
      "[500]\ttraining's rmse: 0.641101\tvalid_1's rmse: 0.657624\n",
      "[750]\ttraining's rmse: 0.601068\tvalid_1's rmse: 0.623409\n",
      "[1000]\ttraining's rmse: 0.576915\tvalid_1's rmse: 0.604776\n",
      "Did not meet early stopping. Best iteration is:\n",
      "[1000]\ttraining's rmse: 0.576915\tvalid_1's rmse: 0.604776\n",
      "Wall time: 9min 37s\n",
      "Wall time: 19min 8s\n",
      "\n",
      "Fold: 2\n",
      "Training until validation scores don't improve for 100 rounds.\n",
      "[250]\ttraining's rmse: 0.705801\tvalid_1's rmse: 0.715563\n",
      "[500]\ttraining's rmse: 0.637316\tvalid_1's rmse: 0.654049\n",
      "[750]\ttraining's rmse: 0.599238\tvalid_1's rmse: 0.622064\n",
      "[1000]\ttraining's rmse: 0.57139\tvalid_1's rmse: 0.600101\n",
      "Did not meet early stopping. Best iteration is:\n",
      "[1000]\ttraining's rmse: 0.57139\tvalid_1's rmse: 0.600101\n",
      "Wall time: 9min 22s\n",
      "Wall time: 21min 2s\n",
      "\n"
     ]
    }
   ],
   "source": [
    "K = 2\n",
    "folds = KFold(K, shuffle=True, random_state = SEED)\n",
    "finalpred = np.zeros(dftest.shape[0])\n",
    "for fold , (train_index,test_index) in enumerate(folds.split(X_train, y_train)):\n",
    "    print('Fold:',fold+1)\n",
    "          \n",
    "    X_traincv, X_testcv = X_train.iloc[train_index], X_train.iloc[test_index]\n",
    "    y_traincv, y_testcv = y_train.iloc[train_index], y_train.iloc[test_index]\n",
    "    \n",
    "    train_data = lgb.Dataset(X_traincv, y_traincv)\n",
    "    val_data   = lgb.Dataset(X_testcv, y_testcv)\n",
    "    \n",
    "    %time LGBM = lgb.train(lgb_params, train_data, valid_sets= [train_data,val_data], verbose_eval=250)\n",
    "    %time finalpred += np.expm1(LGBM.predict(dftest))\n",
    "    print()\n",
    "    \n",
    "finalpred /= K"
   ]
  },
  {
   "cell_type": "markdown",
   "metadata": {},
   "source": [
    "As previsões são a média do exponencial (para transformar de volta na escala original) da previsão de cada fold."
   ]
  },
  {
   "cell_type": "markdown",
   "metadata": {},
   "source": [
    "# Submission"
   ]
  },
  {
   "cell_type": "markdown",
   "metadata": {},
   "source": [
    "Leio o arquivo de submissão da competição com os id's das linhas, e adiciono as previsões. Salvo o arquivo em formato comprimido para economizar espaço no disco e para o upload no site do Kaggle ser mais rápido."
   ]
  },
  {
   "cell_type": "code",
   "execution_count": 23,
   "metadata": {},
   "outputs": [
    {
     "data": {
      "text/html": [
       "<div>\n",
       "<style scoped>\n",
       "    .dataframe tbody tr th:only-of-type {\n",
       "        vertical-align: middle;\n",
       "    }\n",
       "\n",
       "    .dataframe tbody tr th {\n",
       "        vertical-align: top;\n",
       "    }\n",
       "\n",
       "    .dataframe thead th {\n",
       "        text-align: right;\n",
       "    }\n",
       "</style>\n",
       "<table border=\"1\" class=\"dataframe\">\n",
       "  <thead>\n",
       "    <tr style=\"text-align: right;\">\n",
       "      <th></th>\n",
       "      <th>row_id</th>\n",
       "      <th>meter_reading</th>\n",
       "    </tr>\n",
       "  </thead>\n",
       "  <tbody>\n",
       "    <tr>\n",
       "      <th>0</th>\n",
       "      <td>0</td>\n",
       "      <td>39.161882</td>\n",
       "    </tr>\n",
       "    <tr>\n",
       "      <th>1</th>\n",
       "      <td>1</td>\n",
       "      <td>20.567093</td>\n",
       "    </tr>\n",
       "    <tr>\n",
       "      <th>2</th>\n",
       "      <td>2</td>\n",
       "      <td>5.395874</td>\n",
       "    </tr>\n",
       "    <tr>\n",
       "      <th>3</th>\n",
       "      <td>3</td>\n",
       "      <td>7.750602</td>\n",
       "    </tr>\n",
       "    <tr>\n",
       "      <th>4</th>\n",
       "      <td>4</td>\n",
       "      <td>137.684900</td>\n",
       "    </tr>\n",
       "  </tbody>\n",
       "</table>\n",
       "</div>"
      ],
      "text/plain": [
       "   row_id  meter_reading\n",
       "0       0      39.161882\n",
       "1       1      20.567093\n",
       "2       2       5.395874\n",
       "3       3       7.750602\n",
       "4       4     137.684900"
      ]
     },
     "execution_count": 23,
     "metadata": {},
     "output_type": "execute_result"
    }
   ],
   "source": [
    "submission = pd.read_csv('sample_submission.csv')\n",
    "submission['meter_reading'] = finalpred\n",
    "submission['meter_reading'] = np.where((submission['meter_reading'] < 0), 0, submission['meter_reading'])\n",
    "submission.to_csv('solution.csv.gz',index=False,compression='gzip')\n",
    "submission.head()"
   ]
  },
  {
   "cell_type": "markdown",
   "metadata": {},
   "source": [
    "Atualmente esta solução tem uma RMSLE de 1.14 no [leaderboard](https://www.kaggle.com/c/ashrae-energy-prediction/leaderboard) do Kaggle (Nome do time \"rossinEndrew\") e está entre as melhores 29%. A melhor solução publicada até o momento tem um RMSLE de 1.05."
   ]
  }
 ],
 "metadata": {
  "kernelspec": {
   "display_name": "Python 3",
   "language": "python",
   "name": "python3"
  },
  "language_info": {
   "codemirror_mode": {
    "name": "ipython",
    "version": 3
   },
   "file_extension": ".py",
   "mimetype": "text/x-python",
   "name": "python",
   "nbconvert_exporter": "python",
   "pygments_lexer": "ipython3",
   "version": "3.7.3"
  }
 },
 "nbformat": 4,
 "nbformat_minor": 2
}
